{
 "metadata": {
  "name": "",
  "signature": "sha256:fe547bbd42f50d603a5cc05c45afdaf2a6468e12c625f50faa34e83f06f77063"
 },
 "nbformat": 3,
 "nbformat_minor": 0,
 "worksheets": [
  {
   "cells": [
    {
     "cell_type": "code",
     "collapsed": false,
     "input": [
      "import csv\n",
      "import sys\n",
      "from textblob.classifiers import NaiveBayesClassifier\n",
      "\n",
      "reload(sys)\n",
      "sys.setdefaultencoding(\"utf-8\")"
     ],
     "language": "python",
     "metadata": {},
     "outputs": [],
     "prompt_number": 1
    },
    {
     "cell_type": "code",
     "collapsed": false,
     "input": [
      "def cleanup(l):\n",
      "    return tuple([unicode(l[0].encode('utf-8')).lower(), l[1]])"
     ],
     "language": "python",
     "metadata": {},
     "outputs": [],
     "prompt_number": 2
    },
    {
     "cell_type": "code",
     "collapsed": false,
     "input": [
      "with open('spam.csv','r') as f:\n",
      "    reader = csv.reader(f)\n",
      "    maped_content = map(tuple, reader)\n",
      "\n",
      "datalist = []\n",
      "\n",
      "for a in maped_content:\n",
      "    cleaned = cleanup( tuple( reversed(a) ) )\n",
      "    datalist.append(cleaned)"
     ],
     "language": "python",
     "metadata": {},
     "outputs": [],
     "prompt_number": 3
    },
    {
     "cell_type": "code",
     "collapsed": false,
     "input": [
      "len(datalist)"
     ],
     "language": "python",
     "metadata": {},
     "outputs": [
      {
       "metadata": {},
       "output_type": "pyout",
       "prompt_number": 4,
       "text": [
        "619"
       ]
      }
     ],
     "prompt_number": 4
    },
    {
     "cell_type": "code",
     "collapsed": false,
     "input": [
      "cl = NaiveBayesClassifier(datalist)\n"
     ],
     "language": "python",
     "metadata": {},
     "outputs": [],
     "prompt_number": 5
    },
    {
     "cell_type": "code",
     "collapsed": false,
     "input": [
      "test_set = [u\"Hahaha..use your brain dear\",\n",
      "            u\"This is the 2nd time we have tried 2 contact u. U have won the \u00a3750 Pound prize. \\\n",
      "            2 claim is easy, call 087187272008 NOW1! Only 10p per minute. BT-national-rate.\"]\n",
      "\n",
      "for element in test_set:\n",
      "    print cl.classify(element.lower())"
     ],
     "language": "python",
     "metadata": {},
     "outputs": [],
     "prompt_number": 7
    },
    {
     "cell_type": "code",
     "collapsed": false,
     "input": [
      "cl.classify(u\"This is the 2nd time we have tried 2 contact u. U have won the \u00a3750 Pound prize. \\\n",
      "            2 claim is easy, call 087187272008 NOW1! Only 10p per minute. BT-national-rate.\".lower())"
     ],
     "language": "python",
     "metadata": {},
     "outputs": [
      {
       "metadata": {},
       "output_type": "pyout",
       "prompt_number": 9,
       "text": [
        "'spam'"
       ]
      }
     ],
     "prompt_number": 9
    }
   ],
   "metadata": {}
  }
 ]
}