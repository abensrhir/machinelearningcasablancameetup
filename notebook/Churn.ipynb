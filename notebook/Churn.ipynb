{
 "metadata": {
  "celltoolbar": "Raw Cell Format",
  "name": "",
  "signature": "sha256:cd8f78372fc69fef2624cb201bbeba1e0db3ede98bde5e387d189dd5325a6db9"
 },
 "nbformat": 3,
 "nbformat_minor": 0,
 "worksheets": [
  {
   "cells": [
    {
     "cell_type": "markdown",
     "metadata": {},
     "source": [
      "# Churn Prediction (RandomForest classification)"
     ]
    },
    {
     "cell_type": "code",
     "collapsed": false,
     "input": [
      "%pylab inline"
     ],
     "language": "python",
     "metadata": {},
     "outputs": [
      {
       "output_type": "stream",
       "stream": "stdout",
       "text": [
        "Populating the interactive namespace from numpy and matplotlib\n"
       ]
      }
     ],
     "prompt_number": 1
    },
    {
     "cell_type": "code",
     "collapsed": false,
     "input": [
      "import pandas as pd\n",
      "import numpy as np\n",
      "from sklearn.ensemble import RandomForestClassifier\n",
      "from sklearn.preprocessing import StandardScaler\n",
      "from sklearn.cross_validation import KFold\n",
      "import matplotlib.pyplot as plt\n",
      "from sklearn.metrics import confusion_matrix, classification_report\n",
      "pd.set_option('display.max_columns', None)\n"
     ],
     "language": "python",
     "metadata": {},
     "outputs": [],
     "prompt_number": 2
    },
    {
     "cell_type": "code",
     "collapsed": false,
     "input": [
      "churn_df = pd.read_csv('churn.csv')\n",
      "col_names = churn_df.columns.tolist()"
     ],
     "language": "python",
     "metadata": {},
     "outputs": [],
     "prompt_number": 3
    },
    {
     "cell_type": "markdown",
     "metadata": {},
     "source": [
      "*Columns*"
     ]
    },
    {
     "cell_type": "code",
     "collapsed": false,
     "input": [
      "col_names"
     ],
     "language": "python",
     "metadata": {},
     "outputs": [
      {
       "metadata": {},
       "output_type": "pyout",
       "prompt_number": 4,
       "text": [
        "['State',\n",
        " 'Account Length',\n",
        " 'Area Code',\n",
        " 'Phone',\n",
        " \"Int'l Plan\",\n",
        " 'VMail Plan',\n",
        " 'VMail Message',\n",
        " 'Day Mins',\n",
        " 'Day Calls',\n",
        " 'Day Charge',\n",
        " 'Eve Mins',\n",
        " 'Eve Calls',\n",
        " 'Eve Charge',\n",
        " 'Night Mins',\n",
        " 'Night Calls',\n",
        " 'Night Charge',\n",
        " 'Intl Mins',\n",
        " 'Intl Calls',\n",
        " 'Intl Charge',\n",
        " 'CustServ Calls',\n",
        " 'Churn?']"
       ]
      }
     ],
     "prompt_number": 4
    },
    {
     "cell_type": "code",
     "collapsed": false,
     "input": [
      "churn_df.head()"
     ],
     "language": "python",
     "metadata": {},
     "outputs": [
      {
       "html": [
        "<div style=\"max-height:1000px;max-width:1500px;overflow:auto;\">\n",
        "<table border=\"1\" class=\"dataframe\">\n",
        "  <thead>\n",
        "    <tr style=\"text-align: right;\">\n",
        "      <th></th>\n",
        "      <th>State</th>\n",
        "      <th>Account Length</th>\n",
        "      <th>Area Code</th>\n",
        "      <th>Phone</th>\n",
        "      <th>Int'l Plan</th>\n",
        "      <th>VMail Plan</th>\n",
        "      <th>VMail Message</th>\n",
        "      <th>Day Mins</th>\n",
        "      <th>Day Calls</th>\n",
        "      <th>Day Charge</th>\n",
        "      <th>Eve Mins</th>\n",
        "      <th>Eve Calls</th>\n",
        "      <th>Eve Charge</th>\n",
        "      <th>Night Mins</th>\n",
        "      <th>Night Calls</th>\n",
        "      <th>Night Charge</th>\n",
        "      <th>Intl Mins</th>\n",
        "      <th>Intl Calls</th>\n",
        "      <th>Intl Charge</th>\n",
        "      <th>CustServ Calls</th>\n",
        "      <th>Churn?</th>\n",
        "    </tr>\n",
        "  </thead>\n",
        "  <tbody>\n",
        "    <tr>\n",
        "      <th>0</th>\n",
        "      <td> KS</td>\n",
        "      <td> 128</td>\n",
        "      <td> 415</td>\n",
        "      <td> 382-4657</td>\n",
        "      <td>  no</td>\n",
        "      <td> yes</td>\n",
        "      <td> 25</td>\n",
        "      <td> 265.1</td>\n",
        "      <td> 110</td>\n",
        "      <td> 45.07</td>\n",
        "      <td> 197.4</td>\n",
        "      <td>  99</td>\n",
        "      <td> 16.78</td>\n",
        "      <td> 244.7</td>\n",
        "      <td>  91</td>\n",
        "      <td> 11.01</td>\n",
        "      <td> 10.0</td>\n",
        "      <td> 3</td>\n",
        "      <td> 2.70</td>\n",
        "      <td> 1</td>\n",
        "      <td> False.</td>\n",
        "    </tr>\n",
        "    <tr>\n",
        "      <th>1</th>\n",
        "      <td> OH</td>\n",
        "      <td> 107</td>\n",
        "      <td> 415</td>\n",
        "      <td> 371-7191</td>\n",
        "      <td>  no</td>\n",
        "      <td> yes</td>\n",
        "      <td> 26</td>\n",
        "      <td> 161.6</td>\n",
        "      <td> 123</td>\n",
        "      <td> 27.47</td>\n",
        "      <td> 195.5</td>\n",
        "      <td> 103</td>\n",
        "      <td> 16.62</td>\n",
        "      <td> 254.4</td>\n",
        "      <td> 103</td>\n",
        "      <td> 11.45</td>\n",
        "      <td> 13.7</td>\n",
        "      <td> 3</td>\n",
        "      <td> 3.70</td>\n",
        "      <td> 1</td>\n",
        "      <td> False.</td>\n",
        "    </tr>\n",
        "    <tr>\n",
        "      <th>2</th>\n",
        "      <td> NJ</td>\n",
        "      <td> 137</td>\n",
        "      <td> 415</td>\n",
        "      <td> 358-1921</td>\n",
        "      <td>  no</td>\n",
        "      <td>  no</td>\n",
        "      <td>  0</td>\n",
        "      <td> 243.4</td>\n",
        "      <td> 114</td>\n",
        "      <td> 41.38</td>\n",
        "      <td> 121.2</td>\n",
        "      <td> 110</td>\n",
        "      <td> 10.30</td>\n",
        "      <td> 162.6</td>\n",
        "      <td> 104</td>\n",
        "      <td>  7.32</td>\n",
        "      <td> 12.2</td>\n",
        "      <td> 5</td>\n",
        "      <td> 3.29</td>\n",
        "      <td> 0</td>\n",
        "      <td> False.</td>\n",
        "    </tr>\n",
        "    <tr>\n",
        "      <th>3</th>\n",
        "      <td> OH</td>\n",
        "      <td>  84</td>\n",
        "      <td> 408</td>\n",
        "      <td> 375-9999</td>\n",
        "      <td> yes</td>\n",
        "      <td>  no</td>\n",
        "      <td>  0</td>\n",
        "      <td> 299.4</td>\n",
        "      <td>  71</td>\n",
        "      <td> 50.90</td>\n",
        "      <td>  61.9</td>\n",
        "      <td>  88</td>\n",
        "      <td>  5.26</td>\n",
        "      <td> 196.9</td>\n",
        "      <td>  89</td>\n",
        "      <td>  8.86</td>\n",
        "      <td>  6.6</td>\n",
        "      <td> 7</td>\n",
        "      <td> 1.78</td>\n",
        "      <td> 2</td>\n",
        "      <td> False.</td>\n",
        "    </tr>\n",
        "    <tr>\n",
        "      <th>4</th>\n",
        "      <td> OK</td>\n",
        "      <td>  75</td>\n",
        "      <td> 415</td>\n",
        "      <td> 330-6626</td>\n",
        "      <td> yes</td>\n",
        "      <td>  no</td>\n",
        "      <td>  0</td>\n",
        "      <td> 166.7</td>\n",
        "      <td> 113</td>\n",
        "      <td> 28.34</td>\n",
        "      <td> 148.3</td>\n",
        "      <td> 122</td>\n",
        "      <td> 12.61</td>\n",
        "      <td> 186.9</td>\n",
        "      <td> 121</td>\n",
        "      <td>  8.41</td>\n",
        "      <td> 10.1</td>\n",
        "      <td> 3</td>\n",
        "      <td> 2.73</td>\n",
        "      <td> 3</td>\n",
        "      <td> False.</td>\n",
        "    </tr>\n",
        "  </tbody>\n",
        "</table>\n",
        "<p>5 rows \u00d7 21 columns</p>\n",
        "</div>"
       ],
       "metadata": {},
       "output_type": "pyout",
       "prompt_number": 5,
       "text": [
        "  State  Account Length  Area Code     Phone Int'l Plan VMail Plan  \\\n",
        "0    KS             128        415  382-4657         no        yes   \n",
        "1    OH             107        415  371-7191         no        yes   \n",
        "2    NJ             137        415  358-1921         no         no   \n",
        "3    OH              84        408  375-9999        yes         no   \n",
        "4    OK              75        415  330-6626        yes         no   \n",
        "\n",
        "   VMail Message  Day Mins  Day Calls  Day Charge  Eve Mins  Eve Calls  \\\n",
        "0             25     265.1        110       45.07     197.4         99   \n",
        "1             26     161.6        123       27.47     195.5        103   \n",
        "2              0     243.4        114       41.38     121.2        110   \n",
        "3              0     299.4         71       50.90      61.9         88   \n",
        "4              0     166.7        113       28.34     148.3        122   \n",
        "\n",
        "   Eve Charge  Night Mins  Night Calls  Night Charge  Intl Mins  Intl Calls  \\\n",
        "0       16.78       244.7           91         11.01       10.0           3   \n",
        "1       16.62       254.4          103         11.45       13.7           3   \n",
        "2       10.30       162.6          104          7.32       12.2           5   \n",
        "3        5.26       196.9           89          8.86        6.6           7   \n",
        "4       12.61       186.9          121          8.41       10.1           3   \n",
        "\n",
        "   Intl Charge  CustServ Calls  Churn?  \n",
        "0         2.70               1  False.  \n",
        "1         3.70               1  False.  \n",
        "2         3.29               0  False.  \n",
        "3         1.78               2  False.  \n",
        "4         2.73               3  False.  \n",
        "\n",
        "[5 rows x 21 columns]"
       ]
      }
     ],
     "prompt_number": 5
    },
    {
     "cell_type": "code",
     "collapsed": false,
     "input": [
      "churn_result = churn_df['Churn?']\n",
      "y = np.where(churn_result == 'True.',1,0)\n",
      "\n",
      "# We don't need these columns\n",
      "to_drop = ['State','Area Code','Phone','Churn?']\n",
      "churn_feat_space = churn_df.drop(to_drop,axis=1)\n",
      "\n",
      "# 'yes'/'no' has to be converted to boolean values\n",
      "# NumPy converts these from boolean to 1. and 0. later\n",
      "yes_no_cols = [\"Int'l Plan\",\"VMail Plan\"]\n",
      "churn_feat_space[yes_no_cols] = churn_feat_space[yes_no_cols] == 'yes'"
     ],
     "language": "python",
     "metadata": {},
     "outputs": [],
     "prompt_number": 6
    },
    {
     "cell_type": "code",
     "collapsed": false,
     "input": [
      "features = churn_feat_space.columns\n",
      "\n",
      "X = churn_feat_space.as_matrix().astype(np.float)\n",
      "\n",
      "# This is important\n",
      "from sklearn.preprocessing import StandardScaler\n",
      "scaler = StandardScaler()\n",
      "X = scaler.fit_transform(X)\n",
      "\n",
      "print \"Feature space holds %d observations and %d features\" % X.shape\n",
      "print \"Unique target labels:\", np.unique(y)"
     ],
     "language": "python",
     "metadata": {},
     "outputs": [
      {
       "output_type": "stream",
       "stream": "stdout",
       "text": [
        "Feature space holds 3333 observations and 17 features\n",
        "Unique target labels: [0 1]\n"
       ]
      }
     ],
     "prompt_number": 7
    },
    {
     "cell_type": "code",
     "collapsed": false,
     "input": [
      "kf = KFold(len(y),n_folds=5,shuffle=True)\n",
      "y_pred = y.copy()\n",
      "for train_index, test_index in kf:\n",
      "    X_train, X_test = X[train_index], X[test_index]\n",
      "    y_train = y[train_index]\n",
      "    clf = RandomForestClassifier(n_jobs=3)\n",
      "    clf.fit(X_train,y_train)\n",
      "    y_pred[test_index] = clf.predict(X_test)\n",
      "\n",
      "def accuracy(y_true,y_pred):\n",
      "    return np.mean(y_true == y_pred)\n",
      "\n",
      "print accuracy(y, y_pred)"
     ],
     "language": "python",
     "metadata": {},
     "outputs": [
      {
       "output_type": "stream",
       "stream": "stdout",
       "text": [
        "0.946594659466\n"
       ]
      }
     ],
     "prompt_number": 8
    },
    {
     "cell_type": "code",
     "collapsed": false,
     "input": [
      "fet_imp = clf.feature_importances_"
     ],
     "language": "python",
     "metadata": {},
     "outputs": [],
     "prompt_number": 9
    },
    {
     "cell_type": "code",
     "collapsed": false,
     "input": [
      "fig = plt.figure(figsize=(8,4))\n",
      "ax = plt.subplot(111)\n",
      "plt.bar(np.arange(len(fet_imp)), fet_imp, width=1, lw=2)\n",
      "plt.grid(False)\n",
      "ax.set_xticks(np.arange(len(fet_imp))+.5)\n",
      "ax.set_xticklabels(churn_feat_space.columns)\n",
      "plt.setp(ax.get_xticklabels(), rotation='vertical', fontsize=14)\n",
      "plt.xlim(0, len(fet_imp))"
     ],
     "language": "python",
     "metadata": {},
     "outputs": [
      {
       "metadata": {},
       "output_type": "pyout",
       "prompt_number": 10,
       "text": [
        "(0, 17)"
       ]
      },
      {
       "metadata": {},
       "output_type": "display_data",
       "png": "[encoded data removed]",
       "text": [
        "<matplotlib.figure.Figure at 0x1d1d290>"
       ]
      }
     ],
     "prompt_number": 10
    },
    {
     "cell_type": "code",
     "collapsed": false,
     "input": [
      "def draw_cfm(y_true,y_pred):\n",
      "    cm = confusion_matrix(y_true, y_pred)\n",
      "    plt.matshow(cm)\n",
      "    plt.title('Confusion Matrix')\n",
      "    plt.ylabel('True label')\n",
      "    plt.xlabel('Predicted label')\n",
      "    plt.colorbar()\n",
      "\n",
      "def cfm(y_true,y_pred):\n",
      "    return confusion_matrix(y_true, y_pred)\n",
      "\n",
      "def report(y_true,y_pred):\n",
      "    return classification_report(y_true, y_pred)\n",
      "\n",
      "print report(y, y_pred)\n",
      "print cfm(y, y_pred)\n",
      "draw_cfm(y, y_pred)"
     ],
     "language": "python",
     "metadata": {},
     "outputs": [
      {
       "output_type": "stream",
       "stream": "stdout",
       "text": [
        "             precision    recall  f1-score   support\n",
        "\n",
        "          0       0.95      0.99      0.97      2850\n",
        "          1       0.95      0.67      0.78       483\n",
        "\n",
        "avg / total       0.95      0.95      0.94      3333\n",
        "\n",
        "[[2832   18]\n",
        " [ 160  323]]\n"
       ]
      },
      {
       "metadata": {},
       "output_type": "display_data",
       "png": "[encoded data removed]",
       "text": [
        "<matplotlib.figure.Figure at 0x3fda4d0>"
       ]
      }
     ],
     "prompt_number": 11
    }
   ],
   "metadata": {}
  }
 ]
}