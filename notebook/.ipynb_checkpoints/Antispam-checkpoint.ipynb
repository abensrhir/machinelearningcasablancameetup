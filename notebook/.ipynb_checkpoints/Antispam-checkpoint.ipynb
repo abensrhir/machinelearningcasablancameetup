{
 "metadata": {
  "name": "Antispam"
 },
 "nbformat": 3,
 "nbformat_minor": 0,
 "worksheets": [
  {
   "cells": [
    {
     "cell_type": "code",
     "collapsed": false,
     "input": [
      "import csv\n",
      "import sys\n",
      "from textblob.classifiers import NaiveBayesClassifier\n",
      "\n",
      "#reload(sys)\n",
      "#sys.setdefaultencoding(\"utf-8\")"
     ],
     "language": "python",
     "metadata": {},
     "outputs": [],
     "prompt_number": "*"
    },
    {
     "cell_type": "code",
     "collapsed": false,
     "input": [
      "def cleanup(l):\n",
      "    return tuple([unicode(l[0].encode('utf-8')).lower(), l[1]])"
     ],
     "language": "python",
     "metadata": {},
     "outputs": [],
     "prompt_number": "*"
    },
    {
     "cell_type": "code",
     "collapsed": false,
     "input": [
      "with open('spam.csv','r') as f:\n",
      "    reader = csv.reader(f)\n",
      "    maped_content = map(tuple, reader)\n",
      "\n",
      "datalist = []\n",
      "\n",
      "for a in maped_content:\n",
      "    cleaned = cleanup( tuple( reversed(a) ) )\n",
      "    datalist.append(cleaned)"
     ],
     "language": "python",
     "metadata": {},
     "outputs": [],
     "prompt_number": "*"
    },
    {
     "cell_type": "code",
     "collapsed": false,
     "input": [
      "len(datalist)"
     ],
     "language": "python",
     "metadata": {},
     "outputs": [],
     "prompt_number": "*"
    }
   ],
   "metadata": {}
  }
 ]
}